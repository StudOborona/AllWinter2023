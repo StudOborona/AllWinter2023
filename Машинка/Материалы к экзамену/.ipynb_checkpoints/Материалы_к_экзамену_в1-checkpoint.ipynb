{
 "cells": [
  {
   "cell_type": "code",
   "execution_count": null,
   "metadata": {
    "id": "vPn0Tdsv5PzO"
   },
   "outputs": [],
   "source": [
    "import pandas as pd\n",
    "import torch\n",
    "import torch.nn as nn\n",
    "import torch.optim as optim\n",
    "\n",
    "from torch.utils.data import TensorDataset, DataLoader\n",
    "from torch.utils.data import random_split\n",
    "\n",
    "from torchvision import transforms\n",
    "\n",
    "from sklearn.preprocessing import StandardScaler, LabelEncoder\n",
    "from sklearn.model_selection import train_test_split"
   ]
  },
  {
   "cell_type": "code",
   "execution_count": null,
   "metadata": {
    "id": "Nbm8NkkV5Udl"
   },
   "outputs": [],
   "source": [
    "# Код для подключения я Гугл диску\n",
    "from google.colab import drive\n",
    "drive.mount('/content/drive')"
   ]
  },
  {
   "cell_type": "code",
   "execution_count": null,
   "metadata": {
    "id": "Ba4ZNFBV3yGm"
   },
   "outputs": [],
   "source": [
    "def regression_preprocessing(filename, target):\n",
    "  '''Предобработка датасета для регрессии\n",
    "  Преобразует нечисловые значения в числовые при помощи OrdinalEncoder и проводит\n",
    "  стандартизацию при помощи StandardScaler\n",
    "\n",
    "  filename: путь к csv файлу\n",
    "  target: название целевого столбца\n",
    "  '''\n",
    "  dataset = pd.read_csv(filename).dropna()\n",
    "\n",
    "  X, y = dataset.drop(columns=[target]), dataset[target]\n",
    "  X_train, X_test, y_train, y_test = train_test_split(X, y, test_size=0.2, random_state=42)\n",
    "\n",
    "  encoder = ce.OrdinalEncoder()\n",
    "  scaler = StandardScaler()\n",
    "\n",
    "  X_train = encoder.fit_transform(X_train)\n",
    "  X_train = scaler.fit_transform(X_train)\n",
    "  y_train = y_train.values\n",
    "\n",
    "  X_test = encoder.transform(X_test)\n",
    "  X_test = scaler.transform(X_test)\n",
    "  y_test = y_test.values\n",
    "\n",
    "  return X_train, y_train, X_test, y_test\n",
    "\n",
    "filename = '<путь к файлу>'\n",
    "target = '<название целевого столбца>'\n",
    "X_train, y_train, X_test, y_test = regression_preprocessing(filename, target)"
   ]
  },
  {
   "cell_type": "code",
   "execution_count": null,
   "metadata": {
    "id": "KmqY2yLtDR7k"
   },
   "outputs": [],
   "source": [
    "def classification_preprocessing(filename, target, encode_target = False):\n",
    "  '''Предобработка датасета для классификации\n",
    "  Преобразует нечисловые значения в числовые при помощи OrdinalEncoder и проводит\n",
    "  стандартизацию при помощи StandardScaler. \n",
    "\n",
    "  filename: путь к csv файлу\n",
    "  target: название целевого столбца\n",
    "  encode_target: если True, то преобразует значения в столбце target при \n",
    "                 помощи LabelEncoder\n",
    "  '''\n",
    "  dataset = pd.read_csv(filename).dropna()\n",
    "\n",
    "  X, y = dataset.drop(columns=[target]), dataset[target].values\n",
    "\n",
    "  if encode_target:\n",
    "    target_encoder = LabelEncoder()\n",
    "    y = target_encoder.fit_transform(y)\n",
    "\n",
    "  X_train, X_test, y_train, y_test = train_test_split(X, y, test_size=0.2, random_state=42)\n",
    "\n",
    "  encoder = ce.OrdinalEncoder()\n",
    "  scaler = StandardScaler()\n",
    "\n",
    "  X_train = encoder.fit_transform(X_train)\n",
    "  X_train = scaler.fit_transform(X_train)\n",
    "\n",
    "  X_test = encoder.transform(X_test)\n",
    "  X_test = scaler.transform(X_test)\n",
    "\n",
    "  return X_train, y_train, X_test, y_test\n",
    "\n",
    "filename = '<путь к файлу>'\n",
    "target = '<название целевого столбца>'\n",
    "X_train, y_train, X_test, y_test = classification_preprocessing(filename, target, encode_target=True)"
   ]
  },
  {
   "cell_type": "code",
   "execution_count": null,
   "metadata": {
    "id": "zfBMRy6oDgGi"
   },
   "outputs": [],
   "source": [
    "def get_weights(targets):\n",
    "  '''Возвращает тензор весов для классов в выборке'''\n",
    "  _, counts = np.unique(targets, return_counts=True)\n",
    "  return torch.from_numpy(counts.max() / counts).float()\n",
    "\n",
    "criterion = nn.CrossEntropyLoss(weight=get_weights(y_train))"
   ]
  },
  {
   "cell_type": "code",
   "execution_count": null,
   "metadata": {
    "id": "pQEYQmcsDmkR"
   },
   "outputs": [],
   "source": [
    "# Код для распаковки архива \n",
    "import zipfile\n",
    "from tqdm import tqdm\n",
    "\n",
    "zf = zipfile.ZipFile('<путь к архиву>')\n",
    "for file in tqdm(zf.infolist()):\n",
    "    zf.extract(file)"
   ]
  },
  {
   "cell_type": "code",
   "execution_count": null,
   "metadata": {
    "id": "oS6cbTt-DrCE"
   },
   "outputs": [],
   "source": [
    "# Загрузка и предобработка датасета с изображениями\n",
    "from torchvision.datasets import ImageFolder\n",
    "dataset = ImageFolder('<путь к папке с изображениями>', transform=transforms.Compose([transforms.Resize((100, 100)), \n",
    "                                                                              transforms.ToTensor()]))\n",
    "\n",
    "n_classes = len(dataset.classes)"
   ]
  },
  {
   "cell_type": "code",
   "execution_count": 2,
   "metadata": {
    "id": "calvnYqZHxZh"
   },
   "outputs": [],
   "source": [
    "import re\n",
    "import nltk\n",
    "from nltk.corpus import stopwords\n",
    "from nltk.tokenize import word_tokenize\n",
    "from string import punctuation, digits\n",
    "\n",
    "nltk.download('stopwords')\n",
    "nltk.download('punkt')\n",
    "\n",
    "def remove_punctuation(s):\n",
    "    list_punctuation = list(punctuation)\n",
    "    for i in list_punctuation:\n",
    "        s = s.replace(i,'')\n",
    "    return s.lower()\n",
    "\n",
    "def clean_sentence(sentence):\n",
    "    sentence = sentence.lower()\n",
    "    sentence = re.sub(r'(\\W)\\1{2,}', r'\\1', sentence) \n",
    "    sentence = re.sub(r'(\\w)\\1{2,}', r'\\1\\1', sentence)\n",
    "    sentence = re.sub(r'(?P<url>https?://[^\\s]+)', '', sentence) # remove URL adresses\n",
    "    sentence = re.sub(r\"\\@(\\w+)\", '', sentence) # remove usernames\n",
    "    sentence = re.sub(r\"\\#(\\w+)\", '', sentence) # remove hashtags\n",
    "    sentence = re.sub(r\"\\$(\\w+)\", '', sentence) # remove cashtags\n",
    "    sentence = sentence.replace(\"-\",' ')\n",
    "    tokens = sentence.split()\n",
    "    tokens = [remove_punctuation(w) for w in tokens] # remove punctuations\n",
    "    stop_words = set(stopwords.words('english')) # remove stopwords\n",
    "    tokens = [w for w in tokens if not w in stop_words]\n",
    "    remove_digits = str.maketrans('', '', digits)\n",
    "    tokens = [w.translate(remove_digits) for w in tokens]\n",
    "    tokens = [w.strip() for w in tokens]\n",
    "    tokens = [w for w in tokens if w!=\"\"]\n",
    "    tokens = ' '.join(tokens)\n",
    "    tokens = tokens.replace(\"â\", \"\")\n",
    "    return tokens\n",
    "\n",
    "def preprocess_df(df, data_col, target_col, target_mapping=None):\n",
    "  '''Преобрабатывает данные.\n",
    "  Меняет название столбца data_col на data, target_col на label. Чистит текст в столбце\n",
    "  data и заменяет названия классов на индексы при помощи словаря target_mapping\n",
    "  \n",
    "  data_col: название столбца с исходными данными\n",
    "  target_col: название столбца для прогнозирования\n",
    "  target_mapping: словарь для замены названия класса на индекс (может использоваться для объединения нескольких классов в один)\n",
    "  '''\n",
    "  df = df[[data_col, target_col]].rename({data_col: 'data', target_col: 'label'}, axis=1)\n",
    "  if target_mapping is not None:\n",
    "    df['label'] = df['label'].map(target_mapping)\n",
    "  df['data'] = df['data'].map(clean_sentence)\n",
    "  df['data'].replace('', np.nan, inplace=True)\n",
    "  df.dropna(subset=['data'], inplace=True)\n",
    "  return df"
   ]
  },
  {
   "cell_type": "code",
   "execution_count": null,
   "metadata": {
    "id": "23vvRuRKH7FR"
   },
   "outputs": [],
   "source": [
    "class Vocab:\n",
    "  def __init__(self, data):\n",
    "    tokens = set()\n",
    "    self.max_seq_len = 0\n",
    "    for item in data:\n",
    "      seq = word_tokenize(item)\n",
    "      tokens.update(seq)\n",
    "      self.max_seq_len = max(self.max_seq_len, len(seq))\n",
    "\n",
    "    self.unk_token = '<UNK>'\n",
    "    self.pad_token = '<PAD>'\n",
    "\n",
    "    self.idx_to_token = dict(enumerate(tokens, 2))\n",
    "    self.idx_to_token[1] = self.unk_token\n",
    "    self.idx_to_token[0] = self.pad_token\n",
    "    self.token_to_idx = {token: idx for idx, token in self.idx_to_token.items()}\n",
    "    self.vocab_len = len(self.idx_to_token)\n",
    "\n",
    "    self.pad_idx = 0\n",
    "    self.unk_idx = 1"
   ]
  },
  {
   "cell_type": "code",
   "execution_count": null,
   "metadata": {
    "id": "CcNWXtBdZMgR"
   },
   "outputs": [],
   "source": [
    "class NLPDataset(Dataset):\n",
    "  def __init__(self, X, y, vocab):\n",
    "    self.X = X.values\n",
    "    self.y = y.values\n",
    "    self.vocab = vocab\n",
    "\n",
    "  def to_sequence(self, item):\n",
    "    seq_t = torch.ones(self.vocab.max_seq_len, dtype=torch.long) * self.vocab.pad_idx\n",
    "    for idx, tok in enumerate(word_tokenize(item)):\n",
    "      seq_t[idx] = self.vocab.token_to_idx.get(tok, self.vocab.unk_idx)\n",
    "    return seq_t\n",
    "    \n",
    "  def __len__(self):\n",
    "    return len(self.X)\n",
    "\n",
    "  def __getitem__(self, idx):\n",
    "    return self.to_sequence(self.X[idx]), self.y[idx]"
   ]
  },
  {
   "cell_type": "code",
   "execution_count": null,
   "metadata": {
    "id": "ObsZy-mdZRCX"
   },
   "outputs": [],
   "source": [
    "df = pd.read_csv(\"<путь к файлу с данными>\")\n",
    "target_mapping = {\"Extremely Positive\": 2,\n",
    "                  \"Positive\": 2,\n",
    "                  \"Extremely Negative\": 0, \n",
    "                  \"Negative\": 0,\n",
    "                  \"Neutral\": 1}\n",
    "df = preprocess_df(df, 'data', 'target', target_mapping)\n",
    "vocab = Vocab(df['data'])\n",
    "dataset = NLPDataset(df['data'], train_df['label'], vocab)"
   ]
  }
 ],
 "metadata": {
  "colab": {
   "collapsed_sections": [],
   "name": "Материалы_к_экзамену_в1.ipynb",
   "provenance": []
  },
  "kernelspec": {
   "display_name": "Python 3",
   "language": "python",
   "name": "python3"
  },
  "language_info": {
   "codemirror_mode": {
    "name": "ipython",
    "version": 3
   },
   "file_extension": ".py",
   "mimetype": "text/x-python",
   "name": "python",
   "nbconvert_exporter": "python",
   "pygments_lexer": "ipython3",
   "version": "3.7.6"
  }
 },
 "nbformat": 4,
 "nbformat_minor": 1
}
